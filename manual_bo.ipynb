{
 "cells": [
  {
   "cell_type": "code",
   "execution_count": 1,
   "metadata": {},
   "outputs": [
    {
     "data": {
      "text/plain": [
       "<torch._C.Generator at 0x7f51380112b0>"
      ]
     },
     "execution_count": 1,
     "metadata": {},
     "output_type": "execute_result"
    }
   ],
   "source": [
    "import os\n",
    "from typing import Dict, List, Tuple\n",
    "import json\n",
    "from datetime import datetime\n",
    "import warnings\n",
    "warnings.simplefilter(\"ignore\")\n",
    "import numpy as np\n",
    "import fire\n",
    "\n",
    "import torch\n",
    "from torch import Tensor\n",
    "import torch.nn as nn\n",
    "\n",
    "import sklearn.gaussian_process as gp\n",
    "\n",
    "from bayesian_optimization import BayesianOptimization\n",
    "#from utils.bo_utils import BatchedDIPProblem\n",
    "\n",
    "from train_utils import get_net_and_optim\n",
    "from super_resolution import super_resolution\n",
    "from denoising import denoising\n",
    "from inpainting import inpainting\n",
    "\n",
    "device = 'cuda' if torch.cuda.is_available() else 'cpu'\n",
    "seed = 11\n",
    "np.random.seed(seed)\n",
    "torch.manual_seed(seed)"
   ]
  },
  {
   "cell_type": "code",
   "execution_count": 2,
   "metadata": {},
   "outputs": [],
   "source": [
    "exp_name = \"bo_inp\"\n",
    "trials = 10\n",
    "num_iter_eval_fn = 1\n",
    "batch_size = 3\n",
    "num_iter_gp = 10\n",
    "n_init = 4\n",
    "criterion = 'nll'\n",
    "metric = \"psnr_gt_sm\"\n",
    "img_name = \"skin_lesion0\"\n",
    "task = 'inpainting'\n",
    "config = \"./configs/bo_prior_sigma\"\n",
    "log_dir = \"../bo_exps\"\n",
    "trials_log_dir = None\n",
    "gpus = [0]\n",
    "seed = 11"
   ]
  },
  {
   "cell_type": "code",
   "execution_count": 3,
   "metadata": {},
   "outputs": [],
   "source": [
    "torch.manual_seed(seed)\n",
    "np.random.seed(seed)\n",
    "\n",
    "with open(config + \".json\") as f:\n",
    "    config = json.load(f)\n",
    "\n",
    "if log_dir is not None:\n",
    "    if not os.path.exists(log_dir):\n",
    "        os.mkdir(log_dir)\n",
    "    log_dir = f\"{log_dir}/{exp_name}\"\n",
    "    if not os.path.exists(log_dir):\n",
    "        os.mkdir(log_dir)\n",
    "\n",
    "# TODO: make that also False when None for path_log_dir in fns\n",
    "save_trials = False if trials_log_dir is None else True\n",
    "batch_size = len(gpus) if batch_size is None else batch_size"
   ]
  },
  {
   "cell_type": "code",
   "execution_count": 4,
   "metadata": {},
   "outputs": [],
   "source": [
    "class BatchedDIPProblem(nn.Module):\n",
    "\n",
    "    def __init__(self,\n",
    "                 task: str,\n",
    "                 config: Dict,\n",
    "                 metric: str = \"psnr_gt\",\n",
    "                 img_name: str = \"xray\",\n",
    "                 criterion: str = 'nll',\n",
    "                 num_iter_eval_fn: int = 10000,\n",
    "                 save_trials: bool = False,\n",
    "                 path_log_dir: str = \".\",\n",
    "                 gpus: List[int] = [0, 1],\n",
    "                 seed: int = None):\n",
    "\n",
    "        super(BatchedDIPProblem, self).__init__()\n",
    "\n",
    "        if task == \"denoising\":\n",
    "            self.fn = denoising\n",
    "            self.net_structure = json.load(open(\"./configs/net_den.json\"))\n",
    "        elif task == \"super_resolution\":\n",
    "            self.fn = super_resolution\n",
    "            self.net_structure = json.load(open(\"./configs/net_sr.json\"))\n",
    "        elif task == \"inpainting\":\n",
    "            self.fn = inpainting\n",
    "            self.net_structure = json.load(open(\"./configs/net_inp.json\"))\n",
    "\n",
    "        self.net_params = config[\"net_params\"]\n",
    "        self.optim_params = config[\"optim_params\"]\n",
    "        self.net_specs = config[\"net_specs\"]\n",
    "        self.optim_specs = config[\"optim_specs\"]\n",
    "        self.metric = metric\n",
    "        self.criterion=criterion\n",
    "        self.seed = seed\n",
    "\n",
    "        self.params = [p[\"name\"] for p in config[\"parameter\"]]\n",
    "\n",
    "        self.img_name = img_name\n",
    "        self.num_iter_eval_fn = num_iter_eval_fn\n",
    "        self.save_trials = save_trials\n",
    "        self.path_log_dir = path_log_dir\n",
    "        self.gpus = gpus\n",
    "\n",
    "        #try:\n",
    "        #    mp.set_start_method('spawn')\n",
    "        #except RuntimeError:\n",
    "        #    print(\"spawn method has already been set\")\n",
    "\n",
    "    def mp_fn(self,\n",
    "              gpu: int,\n",
    "              single_params: Tensor,\n",
    "              results: Tensor,\n",
    "              order: int):\n",
    "\n",
    "        device = 'cuda:' + str(gpu)\n",
    "        net_specs = self.net_specs.copy()\n",
    "        optim_specs = self.optim_specs.copy()\n",
    "\n",
    "        for i, param in enumerate(self.params):\n",
    "            if param in self.optim_params:\n",
    "                optim_specs[param] = float(single_params[i])\n",
    "            else:\n",
    "                net_specs[param] = float(single_params[i])\n",
    "\n",
    "        net, optimizer = get_net_and_optim(net_specs=net_specs, optim_specs=optim_specs, **self.net_structure)\n",
    "\n",
    "        single_result = self.fn(img_name=self.img_name,\n",
    "                                num_iter=self.num_iter_eval_fn,\n",
    "                                criterion=self.criterion,\n",
    "                                net_specs=net_specs,\n",
    "                                optim_specs=optim_specs,\n",
    "                                save=self.save_trials,\n",
    "                                path_log_dir=self.path_log_dir,\n",
    "                                gpu=gpu,\n",
    "                                net=net,\n",
    "                                optimizer=optimizer,\n",
    "                                seed=self.seed)\n",
    "\n",
    "        res = single_result[self.metric] # [-int(0.1*self.num_iter_eval_fn):]\n",
    "        results[order] = torch.tensor([np.max(res)]) # ([np.mean(res)])\n",
    "\n",
    "        results = results[torch.where(results != 0.)[0]]\n",
    "\n",
    "    def forward(self, params: Tensor) -> Tensor:\n",
    "        results = torch.zeros(len(params))\n",
    "        processes = []\n",
    "        _gpus = (self.gpus * np.ceil(len(params)/len(self.gpus)).astype('int'))[:len(params)]\n",
    "        for order, (single_params, gpu) in enumerate(zip(params, _gpus)):\n",
    "            print(f\"Starting process {order+1}/{len(params)}...\")\n",
    "            self.mp_fn(gpus[0], single_params, results, order)\n",
    "            #p = mp.Process(target=self.mp_fn, args=(gpu, single_params, results, order,))\n",
    "            #p.start()\n",
    "            #processes.append(p)\n",
    "        #print('Waiting for processes to finish')\n",
    "        #for p in processes:\n",
    "        #    p.join()\n",
    "\n",
    "        return results"
   ]
  },
  {
   "cell_type": "code",
   "execution_count": 5,
   "metadata": {},
   "outputs": [],
   "source": [
    "params = {p[\"name\"]: p[\"bounds\"] for p in config[\"parameter\"]}\n",
    "lengthscale_prior = config[\"lengthscale_prior\"] if \"lengthscale_prior\" in list(config.keys()) else dict(concentration=0.3, rate=1.)\n",
    "lengthscale_constraint = config[\"lengthscale_constraint\"] if \"lengthscale_constraint\" in list(config.keys()) else 0.05\n",
    "\n",
    "mean_prior = config[\"mean_prior\"] if \"mean_prior\" in list(config.keys()) else dict(loc=12., scale=2.)\n",
    "noise_prior = config[\"noise_prior\"] if \"noise_prior\" in list(config.keys()) else dict(concentration=1e-2, rate=100.)\n",
    "\n",
    "\n",
    "initial_params_vals = config[\"initial_parameter\"] if \"initial_parameter\" in config.keys() else None\n",
    "\n",
    "acq_kwargs = {\"xi\": 0.1}"
   ]
  },
  {
   "cell_type": "code",
   "execution_count": 6,
   "metadata": {},
   "outputs": [
    {
     "name": "stdout",
     "output_type": "stream",
     "text": [
      "Starting process 1/4...\n"
     ]
    },
    {
     "name": "stderr",
     "output_type": "stream",
     "text": [
      "I: 1 | ELBO: 3.19 | PSNR_noisy: 14.63 | PSNR_gt: 11.35 | PSNR_gt_sm: 11.35: 100%|██████████| 1/1 [00:01<00:00,  1.65s/it]\n",
      "  0%|          | 0/1 [00:00<?, ?it/s]"
     ]
    },
    {
     "name": "stdout",
     "output_type": "stream",
     "text": [
      "Starting process 2/4...\n"
     ]
    },
    {
     "name": "stderr",
     "output_type": "stream",
     "text": [
      "I: 1 | ELBO: 2.95 | PSNR_noisy: 13.10 | PSNR_gt: 11.09 | PSNR_gt_sm: 11.09: 100%|██████████| 1/1 [00:01<00:00,  1.31s/it]\n",
      "  0%|          | 0/1 [00:00<?, ?it/s]"
     ]
    },
    {
     "name": "stdout",
     "output_type": "stream",
     "text": [
      "Starting process 3/4...\n"
     ]
    },
    {
     "name": "stderr",
     "output_type": "stream",
     "text": [
      "I: 1 | ELBO: 4.14 | PSNR_noisy: 14.64 | PSNR_gt: 11.37 | PSNR_gt_sm: 11.37: 100%|██████████| 1/1 [00:01<00:00,  1.30s/it]\n",
      "  0%|          | 0/1 [00:00<?, ?it/s]"
     ]
    },
    {
     "name": "stdout",
     "output_type": "stream",
     "text": [
      "Starting process 4/4...\n"
     ]
    },
    {
     "name": "stderr",
     "output_type": "stream",
     "text": [
      "I: 1 | ELBO: 4.62 | PSNR_noisy: 14.50 | PSNR_gt: 11.51 | PSNR_gt_sm: 11.51: 100%|██████████| 1/1 [00:01<00:00,  1.25s/it]\n"
     ]
    }
   ],
   "source": [
    "batched_dip_prob = BatchedDIPProblem(\n",
    "    path_log_dir=trials_log_dir, gpus=gpus, task=task, config=config,\n",
    "    num_iter_eval_fn=num_iter_eval_fn, save_trials=save_trials,\n",
    "    img_name=img_name, metric=metric, seed=None\n",
    ")\n",
    "\n",
    "bayesian_optimization = BayesianOptimization(\n",
    "    params=params,\n",
    "    initial_params_vals=initial_params_vals,\n",
    "    n_init=n_init,\n",
    "    obj_fn=batched_dip_prob,\n",
    "    acq_fn='expected_improvement',\n",
    "    acq_kwargs=acq_kwargs\n",
    ")"
   ]
  },
  {
   "cell_type": "code",
   "execution_count": 7,
   "metadata": {},
   "outputs": [
    {
     "name": "stdout",
     "output_type": "stream",
     "text": [
      "Training GP...\n",
      "loss: 61.505 | lengthscale: 0.050 | noise: 0.31147: 100%|██████████| 10/10 [00:00<00:00, 20.65it/s]\n",
      "Starting process 1/2...\n"
     ]
    },
    {
     "name": "stderr",
     "output_type": "stream",
     "text": [
      "I: 1 | ELBO: 2.44 | PSNR_noisy: 13.81 | PSNR_gt: 11.19 | PSNR_gt_sm: 11.19: 100%|██████████| 1/1 [00:01<00:00,  1.30s/it]\n",
      "  0%|          | 0/1 [00:00<?, ?it/s]"
     ]
    },
    {
     "name": "stdout",
     "output_type": "stream",
     "text": [
      "Starting process 2/2...\n"
     ]
    },
    {
     "name": "stderr",
     "output_type": "stream",
     "text": [
      "I: 1 | ELBO: 4.68 | PSNR_noisy: 15.21 | PSNR_gt: 10.95 | PSNR_gt_sm: 10.95: 100%|██████████| 1/1 [00:01<00:00,  1.31s/it]\n"
     ]
    },
    {
     "data": {
      "image/png": "[encoded data removed]",
      "text/plain": [
       "<Figure size 432x288 with 2 Axes>"
      ]
     },
     "metadata": {},
     "output_type": "display_data"
    },
    {
     "name": "stdout",
     "output_type": "stream",
     "text": [
      "Training GP...\n",
      "loss: 41.526 | lengthscale: 0.050 | noise: 0.31353: 100%|██████████| 10/10 [00:00<00:00, 86.52it/s]\n",
      "Starting process 1/2...\n"
     ]
    },
    {
     "name": "stderr",
     "output_type": "stream",
     "text": [
      "I: 1 | ELBO: 4.87 | PSNR_noisy: 12.79 | PSNR_gt: 10.99 | PSNR_gt_sm: 10.99: 100%|██████████| 1/1 [00:01<00:00,  1.64s/it]\n",
      "  0%|          | 0/1 [00:00<?, ?it/s]"
     ]
    },
    {
     "name": "stdout",
     "output_type": "stream",
     "text": [
      "Starting process 2/2...\n"
     ]
    },
    {
     "name": "stderr",
     "output_type": "stream",
     "text": [
      "  0%|          | 0/1 [00:01<?, ?it/s]\n"
     ]
    },
    {
     "ename": "KeyboardInterrupt",
     "evalue": "",
     "output_type": "error",
     "traceback": [
      "\u001b[0;31m---------------------------------------------------------------------------\u001b[0m",
      "\u001b[0;31mKeyboardInterrupt\u001b[0m                         Traceback (most recent call last)",
      "\u001b[0;32m<ipython-input-7-03470835654c>\u001b[0m in \u001b[0;36m<module>\u001b[0;34m\u001b[0m\n\u001b[0;32m----> 1\u001b[0;31m best_params = bayesian_optimization.optimize(\n\u001b[0m\u001b[1;32m      2\u001b[0m     \u001b[0mtrials\u001b[0m\u001b[0;34m=\u001b[0m\u001b[0mtrials\u001b[0m\u001b[0;34m,\u001b[0m \u001b[0mplot\u001b[0m\u001b[0;34m=\u001b[0m\u001b[0;32mTrue\u001b[0m\u001b[0;34m,\u001b[0m \u001b[0mgpu\u001b[0m\u001b[0;34m=\u001b[0m\u001b[0mgpus\u001b[0m\u001b[0;34m[\u001b[0m\u001b[0;36m0\u001b[0m\u001b[0;34m]\u001b[0m\u001b[0;34m,\u001b[0m \u001b[0mpath\u001b[0m\u001b[0;34m=\u001b[0m\u001b[0mlog_dir\u001b[0m\u001b[0;34m,\u001b[0m\u001b[0;34m\u001b[0m\u001b[0;34m\u001b[0m\u001b[0m\n\u001b[1;32m      3\u001b[0m     \u001b[0mlengthscale_prior\u001b[0m\u001b[0;34m=\u001b[0m\u001b[0mlengthscale_prior\u001b[0m\u001b[0;34m,\u001b[0m \u001b[0mmean_prior\u001b[0m\u001b[0;34m=\u001b[0m\u001b[0mmean_prior\u001b[0m\u001b[0;34m,\u001b[0m\u001b[0;34m\u001b[0m\u001b[0;34m\u001b[0m\u001b[0m\n\u001b[1;32m      4\u001b[0m     \u001b[0mnoise_prior\u001b[0m\u001b[0;34m=\u001b[0m\u001b[0mnoise_prior\u001b[0m\u001b[0;34m,\u001b[0m \u001b[0mlengthscale_constraint\u001b[0m\u001b[0;34m=\u001b[0m\u001b[0mlengthscale_constraint\u001b[0m\u001b[0;34m,\u001b[0m\u001b[0;34m\u001b[0m\u001b[0;34m\u001b[0m\u001b[0m\n\u001b[1;32m      5\u001b[0m     \u001b[0mnum_iter_gp\u001b[0m\u001b[0;34m=\u001b[0m\u001b[0mnum_iter_gp\u001b[0m\u001b[0;34m,\u001b[0m \u001b[0mbatch_size\u001b[0m\u001b[0;34m=\u001b[0m\u001b[0mbatch_size\u001b[0m\u001b[0;34m\u001b[0m\u001b[0;34m\u001b[0m\u001b[0m\n",
      "\u001b[0;32m~/Dropbox/Projects/midl/bayesian_optimization.py\u001b[0m in \u001b[0;36moptimize\u001b[0;34m(self, trials, batch_size, n_restarts, num_iter_gp, plot, gpu, path, lengthscale_prior, lengthscale_constraint, mean_prior, noise_prior)\u001b[0m\n\u001b[1;32m    173\u001b[0m             \u001b[0;31m# Obtain next noisy sample from the objective fct.\u001b[0m\u001b[0;34m\u001b[0m\u001b[0;34m\u001b[0m\u001b[0;34m\u001b[0m\u001b[0m\n\u001b[1;32m    174\u001b[0m             \u001b[0;31m# next_cost = self.obj_fn(self.dictionarize(next_params))\u001b[0m\u001b[0;34m\u001b[0m\u001b[0;34m\u001b[0m\u001b[0;34m\u001b[0m\u001b[0m\n\u001b[0;32m--> 175\u001b[0;31m             \u001b[0mnext_cost\u001b[0m \u001b[0;34m=\u001b[0m \u001b[0mself\u001b[0m\u001b[0;34m.\u001b[0m\u001b[0mobj_fn\u001b[0m\u001b[0;34m(\u001b[0m\u001b[0mnext_params\u001b[0m\u001b[0;34m)\u001b[0m\u001b[0;34m\u001b[0m\u001b[0;34m\u001b[0m\u001b[0m\n\u001b[0m\u001b[1;32m    176\u001b[0m \u001b[0;34m\u001b[0m\u001b[0m\n\u001b[1;32m    177\u001b[0m             \u001b[0;32mif\u001b[0m \u001b[0mplot\u001b[0m\u001b[0;34m:\u001b[0m\u001b[0;34m\u001b[0m\u001b[0;34m\u001b[0m\u001b[0m\n",
      "\u001b[0;32m~/.conda/envs/py39/lib/python3.9/site-packages/torch/nn/modules/module.py\u001b[0m in \u001b[0;36m_call_impl\u001b[0;34m(self, *input, **kwargs)\u001b[0m\n\u001b[1;32m    725\u001b[0m             \u001b[0mresult\u001b[0m \u001b[0;34m=\u001b[0m \u001b[0mself\u001b[0m\u001b[0;34m.\u001b[0m\u001b[0m_slow_forward\u001b[0m\u001b[0;34m(\u001b[0m\u001b[0;34m*\u001b[0m\u001b[0minput\u001b[0m\u001b[0;34m,\u001b[0m \u001b[0;34m**\u001b[0m\u001b[0mkwargs\u001b[0m\u001b[0;34m)\u001b[0m\u001b[0;34m\u001b[0m\u001b[0;34m\u001b[0m\u001b[0m\n\u001b[1;32m    726\u001b[0m         \u001b[0;32melse\u001b[0m\u001b[0;34m:\u001b[0m\u001b[0;34m\u001b[0m\u001b[0;34m\u001b[0m\u001b[0m\n\u001b[0;32m--> 727\u001b[0;31m             \u001b[0mresult\u001b[0m \u001b[0;34m=\u001b[0m \u001b[0mself\u001b[0m\u001b[0;34m.\u001b[0m\u001b[0mforward\u001b[0m\u001b[0;34m(\u001b[0m\u001b[0;34m*\u001b[0m\u001b[0minput\u001b[0m\u001b[0;34m,\u001b[0m \u001b[0;34m**\u001b[0m\u001b[0mkwargs\u001b[0m\u001b[0;34m)\u001b[0m\u001b[0;34m\u001b[0m\u001b[0;34m\u001b[0m\u001b[0m\n\u001b[0m\u001b[1;32m    728\u001b[0m         for hook in itertools.chain(\n\u001b[1;32m    729\u001b[0m                 \u001b[0m_global_forward_hooks\u001b[0m\u001b[0;34m.\u001b[0m\u001b[0mvalues\u001b[0m\u001b[0;34m(\u001b[0m\u001b[0;34m)\u001b[0m\u001b[0;34m,\u001b[0m\u001b[0;34m\u001b[0m\u001b[0;34m\u001b[0m\u001b[0m\n",
      "\u001b[0;32m<ipython-input-4-b235da3dca9f>\u001b[0m in \u001b[0;36mforward\u001b[0;34m(self, params)\u001b[0m\n\u001b[1;32m     87\u001b[0m         \u001b[0;32mfor\u001b[0m \u001b[0morder\u001b[0m\u001b[0;34m,\u001b[0m \u001b[0;34m(\u001b[0m\u001b[0msingle_params\u001b[0m\u001b[0;34m,\u001b[0m \u001b[0mgpu\u001b[0m\u001b[0;34m)\u001b[0m \u001b[0;32min\u001b[0m \u001b[0menumerate\u001b[0m\u001b[0;34m(\u001b[0m\u001b[0mzip\u001b[0m\u001b[0;34m(\u001b[0m\u001b[0mparams\u001b[0m\u001b[0;34m,\u001b[0m \u001b[0m_gpus\u001b[0m\u001b[0;34m)\u001b[0m\u001b[0;34m)\u001b[0m\u001b[0;34m:\u001b[0m\u001b[0;34m\u001b[0m\u001b[0;34m\u001b[0m\u001b[0m\n\u001b[1;32m     88\u001b[0m             \u001b[0mprint\u001b[0m\u001b[0;34m(\u001b[0m\u001b[0;34mf\"Starting process {order+1}/{len(params)}...\"\u001b[0m\u001b[0;34m)\u001b[0m\u001b[0;34m\u001b[0m\u001b[0;34m\u001b[0m\u001b[0m\n\u001b[0;32m---> 89\u001b[0;31m             \u001b[0mself\u001b[0m\u001b[0;34m.\u001b[0m\u001b[0mmp_fn\u001b[0m\u001b[0;34m(\u001b[0m\u001b[0mgpus\u001b[0m\u001b[0;34m[\u001b[0m\u001b[0;36m0\u001b[0m\u001b[0;34m]\u001b[0m\u001b[0;34m,\u001b[0m \u001b[0msingle_params\u001b[0m\u001b[0;34m,\u001b[0m \u001b[0mresults\u001b[0m\u001b[0;34m,\u001b[0m \u001b[0morder\u001b[0m\u001b[0;34m)\u001b[0m\u001b[0;34m\u001b[0m\u001b[0;34m\u001b[0m\u001b[0m\n\u001b[0m\u001b[1;32m     90\u001b[0m             \u001b[0;31m#p = mp.Process(target=self.mp_fn, args=(gpu, single_params, results, order,))\u001b[0m\u001b[0;34m\u001b[0m\u001b[0;34m\u001b[0m\u001b[0;34m\u001b[0m\u001b[0m\n\u001b[1;32m     91\u001b[0m             \u001b[0;31m#p.start()\u001b[0m\u001b[0;34m\u001b[0m\u001b[0;34m\u001b[0m\u001b[0;34m\u001b[0m\u001b[0m\n",
      "\u001b[0;32m<ipython-input-4-b235da3dca9f>\u001b[0m in \u001b[0;36mmp_fn\u001b[0;34m(self, gpu, single_params, results, order)\u001b[0m\n\u001b[1;32m     64\u001b[0m         \u001b[0mnet\u001b[0m\u001b[0;34m,\u001b[0m \u001b[0moptimizer\u001b[0m \u001b[0;34m=\u001b[0m \u001b[0mget_net_and_optim\u001b[0m\u001b[0;34m(\u001b[0m\u001b[0mnet_specs\u001b[0m\u001b[0;34m=\u001b[0m\u001b[0mnet_specs\u001b[0m\u001b[0;34m,\u001b[0m \u001b[0moptim_specs\u001b[0m\u001b[0;34m=\u001b[0m\u001b[0moptim_specs\u001b[0m\u001b[0;34m,\u001b[0m \u001b[0;34m**\u001b[0m\u001b[0mself\u001b[0m\u001b[0;34m.\u001b[0m\u001b[0mnet_structure\u001b[0m\u001b[0;34m)\u001b[0m\u001b[0;34m\u001b[0m\u001b[0;34m\u001b[0m\u001b[0m\n\u001b[1;32m     65\u001b[0m \u001b[0;34m\u001b[0m\u001b[0m\n\u001b[0;32m---> 66\u001b[0;31m         single_result = self.fn(img_name=self.img_name,\n\u001b[0m\u001b[1;32m     67\u001b[0m                                 \u001b[0mnum_iter\u001b[0m\u001b[0;34m=\u001b[0m\u001b[0mself\u001b[0m\u001b[0;34m.\u001b[0m\u001b[0mnum_iter_eval_fn\u001b[0m\u001b[0;34m,\u001b[0m\u001b[0;34m\u001b[0m\u001b[0;34m\u001b[0m\u001b[0m\n\u001b[1;32m     68\u001b[0m                                 \u001b[0mcriterion\u001b[0m\u001b[0;34m=\u001b[0m\u001b[0mself\u001b[0m\u001b[0;34m.\u001b[0m\u001b[0mcriterion\u001b[0m\u001b[0;34m,\u001b[0m\u001b[0;34m\u001b[0m\u001b[0;34m\u001b[0m\u001b[0m\n",
      "\u001b[0;32m~/Dropbox/Projects/midl/inpainting.py\u001b[0m in \u001b[0;36minpainting\u001b[0;34m(exp_name, img_name, criterion, num_iter, num_scales, gpu, seed, net_specs, optim_specs, path_log_dir, save, net, optimizer)\u001b[0m\n\u001b[1;32m    142\u001b[0m             \u001b[0mout_avg\u001b[0m \u001b[0;34m=\u001b[0m \u001b[0mout_avg\u001b[0m \u001b[0;34m*\u001b[0m \u001b[0mexp_weight\u001b[0m \u001b[0;34m+\u001b[0m \u001b[0mout\u001b[0m\u001b[0;34m.\u001b[0m\u001b[0mdetach\u001b[0m\u001b[0;34m(\u001b[0m\u001b[0;34m)\u001b[0m \u001b[0;34m*\u001b[0m \u001b[0;34m(\u001b[0m\u001b[0;36m1\u001b[0m \u001b[0;34m-\u001b[0m \u001b[0mexp_weight\u001b[0m\u001b[0;34m)\u001b[0m\u001b[0;34m\u001b[0m\u001b[0;34m\u001b[0m\u001b[0m\n\u001b[1;32m    143\u001b[0m \u001b[0;34m\u001b[0m\u001b[0m\n\u001b[0;32m--> 144\u001b[0;31m         \u001b[0mresults\u001b[0m \u001b[0;34m=\u001b[0m \u001b[0mtrack_training\u001b[0m\u001b[0;34m(\u001b[0m\u001b[0mimg_torch\u001b[0m\u001b[0;34m,\u001b[0m \u001b[0mimg_torch\u001b[0m\u001b[0;34m*\u001b[0m\u001b[0mimg_mask_torch\u001b[0m\u001b[0;34m,\u001b[0m \u001b[0mdict\u001b[0m\u001b[0;34m(\u001b[0m\u001b[0mto_corrupted\u001b[0m\u001b[0;34m=\u001b[0m\u001b[0mout\u001b[0m\u001b[0;34m,\u001b[0m \u001b[0mto_gt\u001b[0m\u001b[0;34m=\u001b[0m\u001b[0mout\u001b[0m\u001b[0;34m,\u001b[0m \u001b[0mto_gt_sm\u001b[0m\u001b[0;34m=\u001b[0m\u001b[0mout_avg\u001b[0m\u001b[0;34m)\u001b[0m\u001b[0;34m,\u001b[0m \u001b[0mresults\u001b[0m\u001b[0;34m)\u001b[0m\u001b[0;34m\u001b[0m\u001b[0;34m\u001b[0m\u001b[0m\n\u001b[0m\u001b[1;32m    145\u001b[0m \u001b[0;34m\u001b[0m\u001b[0m\n\u001b[1;32m    146\u001b[0m         \u001b[0;32mif\u001b[0m \u001b[0misinstance\u001b[0m\u001b[0;34m(\u001b[0m\u001b[0moptimizer\u001b[0m\u001b[0;34m,\u001b[0m \u001b[0mSGLD\u001b[0m\u001b[0;34m)\u001b[0m \u001b[0;32mor\u001b[0m \u001b[0;34m\"sgld_cheng\"\u001b[0m \u001b[0;32min\u001b[0m \u001b[0mlist\u001b[0m\u001b[0;34m(\u001b[0m\u001b[0mnet_specs\u001b[0m\u001b[0;34m.\u001b[0m\u001b[0mkeys\u001b[0m\u001b[0;34m(\u001b[0m\u001b[0;34m)\u001b[0m\u001b[0;34m)\u001b[0m\u001b[0;34m:\u001b[0m\u001b[0;34m\u001b[0m\u001b[0;34m\u001b[0m\u001b[0m\n",
      "\u001b[0;32m~/Dropbox/Projects/midl/train_utils.py\u001b[0m in \u001b[0;36mtrack_training\u001b[0;34m(corrupted_img, gt_img, recons, results)\u001b[0m\n\u001b[1;32m    104\u001b[0m         \u001b[0mssim_corrupted\u001b[0m \u001b[0;34m=\u001b[0m \u001b[0mstructural_similarity\u001b[0m\u001b[0;34m(\u001b[0m\u001b[0mcorrupted_img\u001b[0m\u001b[0;34m,\u001b[0m \u001b[0mrecons\u001b[0m\u001b[0;34m[\u001b[0m\u001b[0;34m'to_corrupted'\u001b[0m\u001b[0;34m]\u001b[0m\u001b[0;34m,\u001b[0m \u001b[0mmultichannel\u001b[0m\u001b[0;34m=\u001b[0m\u001b[0mmultichannel\u001b[0m\u001b[0;34m)\u001b[0m\u001b[0;34m\u001b[0m\u001b[0;34m\u001b[0m\u001b[0m\n\u001b[1;32m    105\u001b[0m         \u001b[0mssim_gt\u001b[0m \u001b[0;34m=\u001b[0m \u001b[0mstructural_similarity\u001b[0m\u001b[0;34m(\u001b[0m\u001b[0mgt_img\u001b[0m\u001b[0;34m,\u001b[0m \u001b[0mrecons\u001b[0m\u001b[0;34m[\u001b[0m\u001b[0;34m'to_gt'\u001b[0m\u001b[0;34m]\u001b[0m\u001b[0;34m,\u001b[0m \u001b[0mmultichannel\u001b[0m\u001b[0;34m=\u001b[0m\u001b[0mmultichannel\u001b[0m\u001b[0;34m)\u001b[0m\u001b[0;34m\u001b[0m\u001b[0;34m\u001b[0m\u001b[0m\n\u001b[0;32m--> 106\u001b[0;31m         \u001b[0mssim_gt_sm\u001b[0m \u001b[0;34m=\u001b[0m \u001b[0mstructural_similarity\u001b[0m\u001b[0;34m(\u001b[0m\u001b[0mgt_img\u001b[0m\u001b[0;34m,\u001b[0m \u001b[0mrecons\u001b[0m\u001b[0;34m[\u001b[0m\u001b[0;34m'to_gt_sm'\u001b[0m\u001b[0;34m]\u001b[0m\u001b[0;34m,\u001b[0m \u001b[0mmultichannel\u001b[0m\u001b[0;34m=\u001b[0m\u001b[0mmultichannel\u001b[0m\u001b[0;34m)\u001b[0m\u001b[0;34m\u001b[0m\u001b[0;34m\u001b[0m\u001b[0m\n\u001b[0m\u001b[1;32m    107\u001b[0m \u001b[0;34m\u001b[0m\u001b[0m\n\u001b[1;32m    108\u001b[0m     single_results = dict(psnr_corrupted=psnr_corrupted,\n",
      "\u001b[0;32m~/.conda/envs/py39/lib/python3.9/site-packages/skimage/metrics/_structural_similarity.py\u001b[0m in \u001b[0;36mstructural_similarity\u001b[0;34m(im1, im2, win_size, gradient, data_range, multichannel, gaussian_weights, full, **kwargs)\u001b[0m\n\u001b[1;32m    194\u001b[0m     \u001b[0muxy\u001b[0m \u001b[0;34m=\u001b[0m \u001b[0mfilter_func\u001b[0m\u001b[0;34m(\u001b[0m\u001b[0mim1\u001b[0m \u001b[0;34m*\u001b[0m \u001b[0mim2\u001b[0m\u001b[0;34m,\u001b[0m \u001b[0;34m**\u001b[0m\u001b[0mfilter_args\u001b[0m\u001b[0;34m)\u001b[0m\u001b[0;34m\u001b[0m\u001b[0;34m\u001b[0m\u001b[0m\n\u001b[1;32m    195\u001b[0m     \u001b[0mvx\u001b[0m \u001b[0;34m=\u001b[0m \u001b[0mcov_norm\u001b[0m \u001b[0;34m*\u001b[0m \u001b[0;34m(\u001b[0m\u001b[0muxx\u001b[0m \u001b[0;34m-\u001b[0m \u001b[0mux\u001b[0m \u001b[0;34m*\u001b[0m \u001b[0mux\u001b[0m\u001b[0;34m)\u001b[0m\u001b[0;34m\u001b[0m\u001b[0;34m\u001b[0m\u001b[0m\n\u001b[0;32m--> 196\u001b[0;31m     \u001b[0mvy\u001b[0m \u001b[0;34m=\u001b[0m \u001b[0mcov_norm\u001b[0m \u001b[0;34m*\u001b[0m \u001b[0;34m(\u001b[0m\u001b[0muyy\u001b[0m \u001b[0;34m-\u001b[0m \u001b[0muy\u001b[0m \u001b[0;34m*\u001b[0m \u001b[0muy\u001b[0m\u001b[0;34m)\u001b[0m\u001b[0;34m\u001b[0m\u001b[0;34m\u001b[0m\u001b[0m\n\u001b[0m\u001b[1;32m    197\u001b[0m     \u001b[0mvxy\u001b[0m \u001b[0;34m=\u001b[0m \u001b[0mcov_norm\u001b[0m \u001b[0;34m*\u001b[0m \u001b[0;34m(\u001b[0m\u001b[0muxy\u001b[0m \u001b[0;34m-\u001b[0m \u001b[0mux\u001b[0m \u001b[0;34m*\u001b[0m \u001b[0muy\u001b[0m\u001b[0;34m)\u001b[0m\u001b[0;34m\u001b[0m\u001b[0;34m\u001b[0m\u001b[0m\n\u001b[1;32m    198\u001b[0m \u001b[0;34m\u001b[0m\u001b[0m\n",
      "\u001b[0;31mKeyboardInterrupt\u001b[0m: "
     ]
    }
   ],
   "source": [
    "best_params = bayesian_optimization.optimize(\n",
    "    trials=trials, plot=True, gpu=gpus[0], path=log_dir,\n",
    "    lengthscale_prior=lengthscale_prior, mean_prior=mean_prior,\n",
    "    noise_prior=noise_prior, lengthscale_constraint=lengthscale_constraint,\n",
    "    num_iter_gp=num_iter_gp, batch_size=batch_size\n",
    ")\n",
    "\n",
    "print(best_params)"
   ]
  },
  {
   "cell_type": "code",
   "execution_count": null,
   "metadata": {},
   "outputs": [],
   "source": []
  }
 ],
 "metadata": {
  "kernelspec": {
   "display_name": "py39",
   "language": "python",
   "name": "py39"
  },
  "language_info": {
   "codemirror_mode": {
    "name": "ipython",
    "version": 3
   },
   "file_extension": ".py",
   "mimetype": "text/x-python",
   "name": "python",
   "nbconvert_exporter": "python",
   "pygments_lexer": "ipython3",
   "version": "3.9.1"
  }
 },
 "nbformat": 4,
 "nbformat_minor": 4
}
