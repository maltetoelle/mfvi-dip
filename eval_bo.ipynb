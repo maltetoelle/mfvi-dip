{
 "cells": [
  {
   "cell_type": "code",
   "execution_count": 1,
   "metadata": {},
   "outputs": [],
   "source": [
    "import json\n",
    "\n",
    "import numpy as np\n",
    "import torch\n",
    "\n",
    "from gpytorch.models import ExactGP\n",
    "from gpytorch.means import ConstantMean\n",
    "from gpytorch.kernels import ScaleKernel, RBFKernel\n",
    "from gpytorch.constraints import GreaterThan\n",
    "from gpytorch.distributions import MultivariateNormal\n",
    "from gpytorch.priors import GammaPrior, NormalPrior\n",
    "from gpytorch.likelihoods import GaussianLikelihood, FixedNoiseGaussianLikelihood\n",
    "from gpytorch.mlls import ExactMarginalLogLikelihood\n",
    "\n",
    "from utils.bo_utils import GPModel, plot_optimization, expected_improvement\n",
    "from bayesian_optimization import BayesianOptimization"
   ]
  },
  {
   "cell_type": "code",
   "execution_count": 2,
   "metadata": {},
   "outputs": [],
   "source": [
    "log_dir = \"../bo_exps/bo\"\n",
    "results = torch.load(f\"{log_dir}/results.pt\")\n",
    "params_space = results[\"p_space\"].reshape(-1, 1)"
   ]
  },
  {
   "cell_type": "code",
   "execution_count": 3,
   "metadata": {},
   "outputs": [],
   "source": [
    "config = \"./configs/bo_prior_sigma\"\n",
    "with open(config + \".json\") as f:\n",
    "    config = json.load(f)\n",
    "    \n",
    "lengthscale_prior = config[\"lengthscale_prior\"] if \"lengthscale_prior\" in list(config.keys()) else dict(concentration=0.3, rate=1.)\n",
    "lengthscale_constraint = config[\"lengthscale_constraint\"] if \"lengthscale_constraint\" in list(config.keys()) else 0.05\n",
    "mean_prior = config[\"mean_prior\"] if \"mean_prior\" in list(config.keys()) else dict(loc=25., scale=2.)\n",
    "noise_prior = config[\"noise_prior\"] if \"noise_prior\" in list(config.keys()) else dict(concentration=1e-2, rate=100.)\n",
    "\n",
    "params = {p[\"name\"]: p[\"bounds\"] for p in config[\"parameter\"]}\n",
    "bounds = np.array(list(params.values()))\n",
    "\n",
    "acq_kwargs = {\"xi\": 0.1}"
   ]
  },
  {
   "cell_type": "code",
   "execution_count": 4,
   "metadata": {},
   "outputs": [
    {
     "ename": "TypeError",
     "evalue": "propose_location() missing 1 required positional argument: 'self'",
     "output_type": "error",
     "traceback": [
      "\u001b[0;31m---------------------------------------------------------------------------\u001b[0m",
      "\u001b[0;31mTypeError\u001b[0m                                 Traceback (most recent call last)",
      "\u001b[0;32m<ipython-input-4-9b12c563325a>\u001b[0m in \u001b[0;36m<module>\u001b[0;34m\u001b[0m\n\u001b[1;32m     19\u001b[0m     \u001b[0mmodel\u001b[0m\u001b[0;34m.\u001b[0m\u001b[0mload_state_dict\u001b[0m\u001b[0;34m(\u001b[0m\u001b[0mvals\u001b[0m\u001b[0;34m[\u001b[0m\u001b[0;34m\"state_dict\"\u001b[0m\u001b[0;34m]\u001b[0m\u001b[0;34m)\u001b[0m\u001b[0;34m\u001b[0m\u001b[0;34m\u001b[0m\u001b[0m\n\u001b[1;32m     20\u001b[0m \u001b[0;34m\u001b[0m\u001b[0m\n\u001b[0;32m---> 21\u001b[0;31m     next_params = BayesianOptimization.propose_location(\n\u001b[0m\u001b[1;32m     22\u001b[0m         \u001b[0mmodel\u001b[0m\u001b[0;34m=\u001b[0m\u001b[0mmodel\u001b[0m\u001b[0;34m,\u001b[0m \u001b[0mlikelihood\u001b[0m\u001b[0;34m=\u001b[0m\u001b[0mlikelihood\u001b[0m\u001b[0;34m,\u001b[0m \u001b[0meval_acq\u001b[0m\u001b[0;34m=\u001b[0m\u001b[0meval_acq\u001b[0m\u001b[0;34m,\u001b[0m\u001b[0;34m\u001b[0m\u001b[0;34m\u001b[0m\u001b[0m\n\u001b[1;32m     23\u001b[0m         \u001b[0mparams_space\u001b[0m\u001b[0;34m=\u001b[0m\u001b[0mparams_space\u001b[0m\u001b[0;34m,\u001b[0m \u001b[0mbounds\u001b[0m\u001b[0;34m=\u001b[0m\u001b[0mbounds\u001b[0m\u001b[0;34m,\u001b[0m \u001b[0mbatch_size\u001b[0m\u001b[0;34m=\u001b[0m\u001b[0;36m3\u001b[0m\u001b[0;34m\u001b[0m\u001b[0;34m\u001b[0m\u001b[0m\n",
      "\u001b[0;31mTypeError\u001b[0m: propose_location() missing 1 required positional argument: 'self'"
     ]
    }
   ],
   "source": [
    "likelihood = GaussianLikelihood(noise_prior=GammaPrior(**noise_prior))\n",
    "\n",
    "for i in range(len(results) - 1):\n",
    "    vals = results[i]\n",
    "    \n",
    "    params_samples = vals[\"p_samples\"]\n",
    "    cost_samples = vals[\"c_samples\"]\n",
    "    \n",
    "    eval_acq = lambda params, model, likelihood: expected_improvement(\n",
    "        model, likelihood, params, \n",
    "        params_samples, cost_samples, **acq_kwargs\n",
    "    )\n",
    "    \n",
    "    model = GPModel(\n",
    "        params_samples, cost_samples, likelihood, lengthscale_prior,\n",
    "        lengthscale_constraint, mean_prior\n",
    "    ).double()\n",
    "    \n",
    "    model.load_state_dict(vals[\"state_dict\"])\n",
    "\n",
    "    next_params = BayesianOptimization.propose_location(\n",
    "        model=model, likelihood=likelihood, eval_acq=eval_acq, \n",
    "        params_space=params_space, bounds=bounds, batch_size=3\n",
    "    )\n",
    "    \n",
    "    acquisition = eval_acq(params_space.numpy(), model, likelihood)\n",
    "    path = None # f\"../bo_exps/fig_{i}.pdf\"\n",
    "    plot_optimization(\n",
    "        model, likelihood, acquisition,\n",
    "        next_params, params_space,\n",
    "        params_samples, cost_samples, path\n",
    "    )"
   ]
  },
  {
   "cell_type": "code",
   "execution_count": null,
   "metadata": {},
   "outputs": [],
   "source": []
  }
 ],
 "metadata": {
  "kernelspec": {
   "display_name": "py39",
   "language": "python",
   "name": "py39"
  },
  "language_info": {
   "codemirror_mode": {
    "name": "ipython",
    "version": 3
   },
   "file_extension": ".py",
   "mimetype": "text/x-python",
   "name": "python",
   "nbconvert_exporter": "python",
   "pygments_lexer": "ipython3",
   "version": "3.9.1"
  }
 },
 "nbformat": 4,
 "nbformat_minor": 4
}
