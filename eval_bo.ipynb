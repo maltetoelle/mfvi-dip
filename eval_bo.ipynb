{
 "cells": [
  {
   "cell_type": "code",
   "execution_count": 28,
   "metadata": {},
   "outputs": [
    {
     "ename": "ImportError",
     "evalue": "cannot import name 'expected_improvement' from 'utils.bo_utils' (/home/toelle/Dropbox/Projects/midl/utils/bo_utils.py)",
     "output_type": "error",
     "traceback": [
      "\u001b[0;31m---------------------------------------------------------------------------\u001b[0m",
      "\u001b[0;31mImportError\u001b[0m                               Traceback (most recent call last)",
      "\u001b[0;32m<ipython-input-28-2b9b1bf245a0>\u001b[0m in \u001b[0;36m<module>\u001b[0;34m\u001b[0m\n\u001b[1;32m     12\u001b[0m \u001b[0;34m\u001b[0m\u001b[0m\n\u001b[1;32m     13\u001b[0m \u001b[0;32mfrom\u001b[0m \u001b[0mutils\u001b[0m\u001b[0;34m.\u001b[0m\u001b[0mbo_utils\u001b[0m \u001b[0;32mimport\u001b[0m \u001b[0mGPModel\u001b[0m\u001b[0;34m,\u001b[0m \u001b[0mplot_optimization\u001b[0m\u001b[0;34m\u001b[0m\u001b[0;34m\u001b[0m\u001b[0m\n\u001b[0;32m---> 14\u001b[0;31m \u001b[0;32mfrom\u001b[0m \u001b[0mbayesian_optimization\u001b[0m \u001b[0;32mimport\u001b[0m \u001b[0mBayesianOptimization\u001b[0m\u001b[0;34m\u001b[0m\u001b[0;34m\u001b[0m\u001b[0m\n\u001b[0m",
      "\u001b[0;32m~/Dropbox/Projects/midl/bayesian_optimization.py\u001b[0m in \u001b[0;36m<module>\u001b[0;34m\u001b[0m\n\u001b[1;32m     18\u001b[0m \u001b[0;32mfrom\u001b[0m \u001b[0mgpytorch\u001b[0m\u001b[0;34m.\u001b[0m\u001b[0mlikelihoods\u001b[0m \u001b[0;32mimport\u001b[0m \u001b[0mGaussianLikelihood\u001b[0m\u001b[0;34m\u001b[0m\u001b[0;34m\u001b[0m\u001b[0m\n\u001b[1;32m     19\u001b[0m \u001b[0;34m\u001b[0m\u001b[0m\n\u001b[0;32m---> 20\u001b[0;31m \u001b[0;32mfrom\u001b[0m \u001b[0mutils\u001b[0m\u001b[0;34m.\u001b[0m\u001b[0mbo_utils\u001b[0m \u001b[0;32mimport\u001b[0m \u001b[0mGPModel\u001b[0m\u001b[0;34m,\u001b[0m \u001b[0minitialize_model\u001b[0m\u001b[0;34m,\u001b[0m \u001b[0mplot_optimization\u001b[0m\u001b[0;34m,\u001b[0m \u001b[0mplot_convergence\u001b[0m\u001b[0;34m,\u001b[0m \u001b[0mexpected_improvement\u001b[0m\u001b[0;34m\u001b[0m\u001b[0;34m\u001b[0m\u001b[0m\n\u001b[0m\u001b[1;32m     21\u001b[0m \u001b[0;34m\u001b[0m\u001b[0m\n\u001b[1;32m     22\u001b[0m \u001b[0;32mclass\u001b[0m \u001b[0mBayesianOptimization\u001b[0m\u001b[0;34m:\u001b[0m\u001b[0;34m\u001b[0m\u001b[0;34m\u001b[0m\u001b[0m\n",
      "\u001b[0;31mImportError\u001b[0m: cannot import name 'expected_improvement' from 'utils.bo_utils' (/home/toelle/Dropbox/Projects/midl/utils/bo_utils.py)"
     ]
    }
   ],
   "source": [
    "import json\n",
    "import torch\n",
    "\n",
    "from gpytorch.models import ExactGP\n",
    "from gpytorch.means import ConstantMean\n",
    "from gpytorch.kernels import ScaleKernel, RBFKernel\n",
    "from gpytorch.constraints import GreaterThan\n",
    "from gpytorch.distributions import MultivariateNormal\n",
    "from gpytorch.priors import GammaPrior, NormalPrior\n",
    "from gpytorch.likelihoods import GaussianLikelihood, FixedNoiseGaussianLikelihood\n",
    "from gpytorch.mlls import ExactMarginalLogLikelihood\n",
    "\n",
    "from utils.bo_utils import GPModel, plot_optimization\n",
    "from bayesian_optimization import BayesianOptimization"
   ]
  },
  {
   "cell_type": "code",
   "execution_count": 25,
   "metadata": {},
   "outputs": [],
   "source": [
    "log_dir = \"../bo_exps/bo\"\n",
    "results = torch.load(f\"{log_dir}/results.pt\")\n",
    "params_space = results[\"p_space\"]"
   ]
  },
  {
   "cell_type": "code",
   "execution_count": 26,
   "metadata": {},
   "outputs": [
    {
     "ename": "NameError",
     "evalue": "name 'np' is not defined",
     "output_type": "error",
     "traceback": [
      "\u001b[0;31m---------------------------------------------------------------------------\u001b[0m",
      "\u001b[0;31mNameError\u001b[0m                                 Traceback (most recent call last)",
      "\u001b[0;32m<ipython-input-26-f5b8756c8087>\u001b[0m in \u001b[0;36m<module>\u001b[0;34m\u001b[0m\n\u001b[1;32m      9\u001b[0m \u001b[0;34m\u001b[0m\u001b[0m\n\u001b[1;32m     10\u001b[0m \u001b[0mparams\u001b[0m \u001b[0;34m=\u001b[0m \u001b[0;34m{\u001b[0m\u001b[0mp\u001b[0m\u001b[0;34m[\u001b[0m\u001b[0;34m\"name\"\u001b[0m\u001b[0;34m]\u001b[0m\u001b[0;34m:\u001b[0m \u001b[0mp\u001b[0m\u001b[0;34m[\u001b[0m\u001b[0;34m\"bounds\"\u001b[0m\u001b[0;34m]\u001b[0m \u001b[0;32mfor\u001b[0m \u001b[0mp\u001b[0m \u001b[0;32min\u001b[0m \u001b[0mconfig\u001b[0m\u001b[0;34m[\u001b[0m\u001b[0;34m\"parameter\"\u001b[0m\u001b[0;34m]\u001b[0m\u001b[0;34m}\u001b[0m\u001b[0;34m\u001b[0m\u001b[0;34m\u001b[0m\u001b[0m\n\u001b[0;32m---> 11\u001b[0;31m \u001b[0mbounds\u001b[0m \u001b[0;34m=\u001b[0m \u001b[0mnp\u001b[0m\u001b[0;34m.\u001b[0m\u001b[0marray\u001b[0m\u001b[0;34m(\u001b[0m\u001b[0mlist\u001b[0m\u001b[0;34m(\u001b[0m\u001b[0mparams\u001b[0m\u001b[0;34m.\u001b[0m\u001b[0mvalues\u001b[0m\u001b[0;34m(\u001b[0m\u001b[0;34m)\u001b[0m\u001b[0;34m)\u001b[0m\u001b[0;34m)\u001b[0m\u001b[0;34m\u001b[0m\u001b[0;34m\u001b[0m\u001b[0m\n\u001b[0m",
      "\u001b[0;31mNameError\u001b[0m: name 'np' is not defined"
     ]
    }
   ],
   "source": [
    "config = \"./configs/bo_prior_sigma\"\n",
    "with open(config + \".json\") as f:\n",
    "    config = json.load(f)\n",
    "    \n",
    "lengthscale_prior = config[\"lengthscale_prior\"] if \"lengthscale_prior\" in list(config.keys()) else dict(concentration=0.3, rate=1.)\n",
    "lengthscale_constraint = config[\"lengthscale_constraint\"] if \"lengthscale_constraint\" in list(config.keys()) else 0.05\n",
    "mean_prior = config[\"mean_prior\"] if \"mean_prior\" in list(config.keys()) else dict(loc=25., scale=2.)\n",
    "noise_prior = config[\"noise_prior\"] if \"noise_prior\" in list(config.keys()) else dict(concentration=1e-2, rate=100.)\n",
    "\n",
    "params = {p[\"name\"]: p[\"bounds\"] for p in config[\"parameter\"]}\n",
    "bounds = np.array(list(params.values()))"
   ]
  },
  {
   "cell_type": "code",
   "execution_count": 23,
   "metadata": {},
   "outputs": [],
   "source": [
    "import pdb;pdb.set_trace()\n",
    "likelihood = GaussianLikelihood(noise_prior=GammaPrior(**noise_prior))\n",
    "\n",
    "for i in range(len(results) - 1):\n",
    "    vals = results[i]\n",
    "    \n",
    "    params_samples = vals[\"p_samples\"]\n",
    "    cost_samples = vals[\"c_samples\"]\n",
    "    \n",
    "    model = GPModel(\n",
    "        params_samples, cost_samples, likelihood, lengthscale_prior,\n",
    "        lengthscale_constraint, mean_prior\n",
    "    ).double()\n",
    "    \n",
    "    model.load_state_dict(vals[\"state_dict\"])\n",
    "    \n",
    "    plot_optimization(\n",
    "        model, likelihood, expected_improvement,\n",
    "        next_params, params_space,\n",
    "        params_samples, cost_samples, path\n",
    "    )"
   ]
  },
  {
   "cell_type": "code",
   "execution_count": null,
   "metadata": {},
   "outputs": [],
   "source": []
  }
 ],
 "metadata": {
  "kernelspec": {
   "display_name": "py39",
   "language": "python",
   "name": "py39"
  },
  "language_info": {
   "codemirror_mode": {
    "name": "ipython",
    "version": 3
   },
   "file_extension": ".py",
   "mimetype": "text/x-python",
   "name": "python",
   "nbconvert_exporter": "python",
   "pygments_lexer": "ipython3",
   "version": "3.9.1"
  }
 },
 "nbformat": 4,
 "nbformat_minor": 4
}
